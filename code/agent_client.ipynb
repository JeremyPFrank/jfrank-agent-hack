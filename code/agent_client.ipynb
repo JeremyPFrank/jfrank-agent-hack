{
 "cells": [
  {
   "cell_type": "markdown",
   "id": "fbbed95a-4ffe-4528-8e6d-08e2bcd9149f",
   "metadata": {},
   "source": [
    "# Agent Client"
   ]
  },
  {
   "cell_type": "code",
   "execution_count": 1,
   "id": "77243ccf-c702-4f67-85f7-0ebe7808a963",
   "metadata": {},
   "outputs": [
    {
     "name": "stdout",
     "output_type": "stream",
     "text": [
      "Note: you may need to restart the kernel to use updated packages.\n"
     ]
    },
    {
     "name": "stderr",
     "output_type": "stream",
     "text": [
      "The system cannot find the path specified.\n"
     ]
    }
   ],
   "source": [
    "%pip install -r ../requirements.txt > /dev/null\n",
    "from dotenv import load_dotenv\n",
    "_ = load_dotenv(\"../variables.env\")\n",
    "_ = load_dotenv(\"../secrets.env\")"
   ]
  },
  {
   "cell_type": "code",
   "execution_count": 2,
   "id": "907fa086-42ee-40a0-8e60-d392de19b399",
   "metadata": {},
   "outputs": [
    {
     "ename": "ModuleNotFoundError",
     "evalue": "No module named 'tavily'",
     "output_type": "error",
     "traceback": [
      "\u001b[31m---------------------------------------------------------------------------\u001b[39m",
      "\u001b[31mModuleNotFoundError\u001b[39m                       Traceback (most recent call last)",
      "\u001b[36mCell\u001b[39m\u001b[36m \u001b[39m\u001b[32mIn[2]\u001b[39m\u001b[32m, line 6\u001b[39m\n\u001b[32m      2\u001b[39m logging.basicConfig(level=logging.INFO)\n\u001b[32m      4\u001b[39m \u001b[38;5;28;01mfrom\u001b[39;00m\u001b[38;5;250m \u001b[39m\u001b[34;01mIPython\u001b[39;00m\u001b[34;01m.\u001b[39;00m\u001b[34;01mdisplay\u001b[39;00m\u001b[38;5;250m \u001b[39m\u001b[38;5;28;01mimport\u001b[39;00m Markdown\n\u001b[32m----> \u001b[39m\u001b[32m6\u001b[39m \u001b[38;5;28;01mfrom\u001b[39;00m\u001b[38;5;250m \u001b[39m\u001b[34;01mdocgen_agent\u001b[39;00m\u001b[38;5;250m \u001b[39m\u001b[38;5;28;01mimport\u001b[39;00m AgentState, graph\n",
      "\u001b[36mFile \u001b[39m\u001b[32mc:\\Users\\jerem\\Desktop\\Code\\Personal\\jfrank-agent-hack\\code\\docgen_agent\\__init__.py:6\u001b[39m\n\u001b[32m      3\u001b[39m \u001b[38;5;28;01mimport\u001b[39;00m\u001b[38;5;250m \u001b[39m\u001b[34;01masyncio\u001b[39;00m\n\u001b[32m      4\u001b[39m \u001b[38;5;28;01mfrom\u001b[39;00m\u001b[38;5;250m \u001b[39m\u001b[34;01mtyping\u001b[39;00m\u001b[38;5;250m \u001b[39m\u001b[38;5;28;01mimport\u001b[39;00m Any\n\u001b[32m----> \u001b[39m\u001b[32m6\u001b[39m \u001b[38;5;28;01mfrom\u001b[39;00m\u001b[38;5;250m \u001b[39m\u001b[34;01m.\u001b[39;00m\u001b[34;01magent\u001b[39;00m\u001b[38;5;250m \u001b[39m\u001b[38;5;28;01mimport\u001b[39;00m AgentState, graph\n\u001b[32m      9\u001b[39m \u001b[38;5;28;01masync\u001b[39;00m \u001b[38;5;28;01mdef\u001b[39;00m\u001b[38;5;250m \u001b[39m\u001b[34masync_write_report\u001b[39m(\n\u001b[32m     10\u001b[39m     topic: \u001b[38;5;28mstr\u001b[39m, report_structure: \u001b[38;5;28mstr\u001b[39m\n\u001b[32m     11\u001b[39m ) -> Any | \u001b[38;5;28mdict\u001b[39m[\u001b[38;5;28mstr\u001b[39m, Any] | \u001b[38;5;28;01mNone\u001b[39;00m:\n\u001b[32m     12\u001b[39m \u001b[38;5;250m    \u001b[39m\u001b[33;03m\"\"\"Write a report.\"\"\"\u001b[39;00m\n",
      "\u001b[36mFile \u001b[39m\u001b[32mc:\\Users\\jerem\\Desktop\\Code\\Personal\\jfrank-agent-hack\\code\\docgen_agent\\agent.py:16\u001b[39m\n\u001b[32m     13\u001b[39m \u001b[38;5;28;01mfrom\u001b[39;00m\u001b[38;5;250m \u001b[39m\u001b[34;01mlanggraph\u001b[39;00m\u001b[34;01m.\u001b[39;00m\u001b[34;01mgraph\u001b[39;00m\u001b[34;01m.\u001b[39;00m\u001b[34;01mmessage\u001b[39;00m\u001b[38;5;250m \u001b[39m\u001b[38;5;28;01mimport\u001b[39;00m add_messages\n\u001b[32m     14\u001b[39m \u001b[38;5;28;01mfrom\u001b[39;00m\u001b[38;5;250m \u001b[39m\u001b[34;01mpydantic\u001b[39;00m\u001b[38;5;250m \u001b[39m\u001b[38;5;28;01mimport\u001b[39;00m BaseModel\n\u001b[32m---> \u001b[39m\u001b[32m16\u001b[39m \u001b[38;5;28;01mfrom\u001b[39;00m\u001b[38;5;250m \u001b[39m\u001b[34;01m.\u001b[39;00m\u001b[38;5;250m \u001b[39m\u001b[38;5;28;01mimport\u001b[39;00m author, researcher\n\u001b[32m     17\u001b[39m \u001b[38;5;28;01mfrom\u001b[39;00m\u001b[38;5;250m \u001b[39m\u001b[34;01m.\u001b[39;00m\u001b[34;01mprompts\u001b[39;00m\u001b[38;5;250m \u001b[39m\u001b[38;5;28;01mimport\u001b[39;00m report_planner_instructions\n\u001b[32m     19\u001b[39m _LOGGER = logging.getLogger(\u001b[34m__name__\u001b[39m)\n",
      "\u001b[36mFile \u001b[39m\u001b[32mc:\\Users\\jerem\\Desktop\\Code\\Personal\\jfrank-agent-hack\\code\\docgen_agent\\author.py:13\u001b[39m\n\u001b[32m     10\u001b[39m \u001b[38;5;28;01mfrom\u001b[39;00m\u001b[38;5;250m \u001b[39m\u001b[34;01mlanggraph\u001b[39;00m\u001b[34;01m.\u001b[39;00m\u001b[34;01mgraph\u001b[39;00m\u001b[34;01m.\u001b[39;00m\u001b[34;01mmessage\u001b[39;00m\u001b[38;5;250m \u001b[39m\u001b[38;5;28;01mimport\u001b[39;00m add_messages\n\u001b[32m     11\u001b[39m \u001b[38;5;28;01mfrom\u001b[39;00m\u001b[38;5;250m \u001b[39m\u001b[34;01mpydantic\u001b[39;00m\u001b[38;5;250m \u001b[39m\u001b[38;5;28;01mimport\u001b[39;00m BaseModel\n\u001b[32m---> \u001b[39m\u001b[32m13\u001b[39m \u001b[38;5;28;01mfrom\u001b[39;00m\u001b[38;5;250m \u001b[39m\u001b[34;01m.\u001b[39;00m\u001b[38;5;250m \u001b[39m\u001b[38;5;28;01mimport\u001b[39;00m tools\n\u001b[32m     14\u001b[39m \u001b[38;5;28;01mfrom\u001b[39;00m\u001b[38;5;250m \u001b[39m\u001b[34;01m.\u001b[39;00m\u001b[34;01mprompts\u001b[39;00m\u001b[38;5;250m \u001b[39m\u001b[38;5;28;01mimport\u001b[39;00m section_research_prompt, section_writing_prompt\n\u001b[32m     16\u001b[39m _LOGGER = logging.getLogger(\u001b[34m__name__\u001b[39m)\n",
      "\u001b[36mFile \u001b[39m\u001b[32mc:\\Users\\jerem\\Desktop\\Code\\Personal\\jfrank-agent-hack\\code\\docgen_agent\\tools.py:9\u001b[39m\n\u001b[32m      6\u001b[39m \u001b[38;5;28;01mfrom\u001b[39;00m\u001b[38;5;250m \u001b[39m\u001b[34;01mtyping\u001b[39;00m\u001b[38;5;250m \u001b[39m\u001b[38;5;28;01mimport\u001b[39;00m Literal\n\u001b[32m      8\u001b[39m \u001b[38;5;28;01mfrom\u001b[39;00m\u001b[38;5;250m \u001b[39m\u001b[34;01mlangchain_core\u001b[39;00m\u001b[34;01m.\u001b[39;00m\u001b[34;01mtools\u001b[39;00m\u001b[38;5;250m \u001b[39m\u001b[38;5;28;01mimport\u001b[39;00m tool\n\u001b[32m----> \u001b[39m\u001b[32m9\u001b[39m \u001b[38;5;28;01mfrom\u001b[39;00m\u001b[38;5;250m \u001b[39m\u001b[34;01mtavily\u001b[39;00m\u001b[38;5;250m \u001b[39m\u001b[38;5;28;01mimport\u001b[39;00m AsyncTavilyClient\n\u001b[32m     11\u001b[39m _LOGGER = logging.getLogger(\u001b[34m__name__\u001b[39m)\n\u001b[32m     13\u001b[39m tavily_client = AsyncTavilyClient(api_key=os.getenv(\u001b[33m\"\u001b[39m\u001b[33mTAVILY_API_KEY\u001b[39m\u001b[33m\"\u001b[39m))\n",
      "\u001b[31mModuleNotFoundError\u001b[39m: No module named 'tavily'"
     ]
    }
   ],
   "source": [
    "import logging\n",
    "logging.basicConfig(level=logging.INFO)\n",
    "\n",
    "from IPython.display import Markdown\n",
    "\n",
    "from docgen_agent import AgentState, graph"
   ]
  },
  {
   "cell_type": "markdown",
   "id": "423b4043-81d6-4a1b-b432-b07fb3d043a0",
   "metadata": {},
   "source": [
    "## Inputs\n",
    "\n",
    "Try making changes to the agent request."
   ]
  },
  {
   "cell_type": "code",
   "execution_count": null,
   "id": "51c1ee85-8472-46be-bbe9-66a14e93c812",
   "metadata": {},
   "outputs": [],
   "source": [
    "topic = \"The latest developments with AI Agents in 2025.\""
   ]
  },
  {
   "cell_type": "code",
   "execution_count": null,
   "id": "d0abd9ad-d1c0-4b57-b1b2-a87fa70df787",
   "metadata": {},
   "outputs": [],
   "source": [
    "structure = \"\"\"\n",
    "This article should be informative and future looking.\n",
    "The topics of the report should stay enterprise focused and professional.\n",
    "\n",
    "The report structure should include:\n",
    "1. Introduction (no research needed)\n",
    "- Brief overview of the topic area that will be discussed in the rest of the article\n",
    "\n",
    "2. Main Body Sections:\n",
    "- One dedicated section for EACH major feature\n",
    "- Each section should examine:\n",
    "- How the new feature is beneficial\n",
    "- Impacts on enterprises\n",
    "- One example use case (2-3 sentences)\n",
    "\n",
    "3. No Main Body Sections other than the ones dedicated to each feature\n",
    "\n",
    "4. Conclusion that summarizes the new features (no research needed)\n",
    "- Final recommendations\n",
    "\"\"\""
   ]
  },
  {
   "cell_type": "markdown",
   "id": "ff6ce016-b2f9-42bc-841b-5670b20a8688",
   "metadata": {},
   "source": [
    "## Ask the Agent\n",
    "\n",
    "Here, we will send your request to the agent. The agent will print log messages to let you know what it is up to. Expect this step to take a few minutes."
   ]
  },
  {
   "cell_type": "code",
   "execution_count": 2,
   "id": "c0669ee3-902c-44a0-8916-147e53a4fabc",
   "metadata": {},
   "outputs": [
    {
     "ename": "NameError",
     "evalue": "name 'AgentState' is not defined",
     "output_type": "error",
     "traceback": [
      "\u001b[31m---------------------------------------------------------------------------\u001b[39m",
      "\u001b[31mNameError\u001b[39m                                 Traceback (most recent call last)",
      "\u001b[36mCell\u001b[39m\u001b[36m \u001b[39m\u001b[32mIn[2]\u001b[39m\u001b[32m, line 1\u001b[39m\n\u001b[32m----> \u001b[39m\u001b[32m1\u001b[39m state = \u001b[43mAgentState\u001b[49m(\n\u001b[32m      2\u001b[39m     topic=topic,\n\u001b[32m      3\u001b[39m     report_structure=structure\n\u001b[32m      4\u001b[39m )\n\u001b[32m      6\u001b[39m state = \u001b[38;5;28;01mawait\u001b[39;00m graph.ainvoke(state)\n",
      "\u001b[31mNameError\u001b[39m: name 'AgentState' is not defined"
     ]
    }
   ],
   "source": [
    "state = AgentState(\n",
    "    topic=topic,\n",
    "    report_structure=structure\n",
    ")\n",
    "\n",
    "state = await graph.ainvoke(state)"
   ]
  },
  {
   "cell_type": "markdown",
   "id": "6bdedc2f-164c-4ace-8f5b-cf27eefadbd2",
   "metadata": {},
   "source": [
    "## Render the Final Document\n",
    "\n",
    "Let's see what the agent was able to find for us."
   ]
  },
  {
   "cell_type": "code",
   "execution_count": null,
   "id": "fe890305-0f1c-4c8d-a918-b5d0dbbfbe39",
   "metadata": {},
   "outputs": [],
   "source": [
    "Markdown(state[\"report\"])"
   ]
  },
  {
   "cell_type": "code",
   "execution_count": null,
   "id": "36d51b56-dbe5-4bb5-bf9d-9e9f4998ff91",
   "metadata": {},
   "outputs": [],
   "source": []
  }
 ],
 "metadata": {
  "kernelspec": {
   "display_name": "Python 3",
   "language": "python",
   "name": "python3"
  },
  "language_info": {
   "codemirror_mode": {
    "name": "ipython",
    "version": 3
   },
   "file_extension": ".py",
   "mimetype": "text/x-python",
   "name": "python",
   "nbconvert_exporter": "python",
   "pygments_lexer": "ipython3",
   "version": "3.13.2"
  }
 },
 "nbformat": 4,
 "nbformat_minor": 5
}
